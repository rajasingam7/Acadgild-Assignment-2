{
 "cells": [
  {
   "cell_type": "code",
   "execution_count": 1,
   "metadata": {},
   "outputs": [
    {
     "name": "stdout",
     "output_type": "stream",
     "text": [
      "Sum on list [1,2,3,4,5,6,7,8,9] using custom reduce function:45\n"
     ]
    }
   ],
   "source": [
    "# Task1:\n",
    "# 1.1 - Write a Python Program to implement your own myreduce() function which works exactly like\n",
    "# Python's built-in function reduce() \n",
    "\n",
    "def myreduce(fun, seq):   \n",
    "    result = seq[0] \n",
    "        \n",
    "    for item in seq[1:]:             \n",
    "        result = fun(result, item)\n",
    "    return result\n",
    "\n",
    "def sum(x,y): \n",
    "    return x+y\n",
    "\n",
    "print (\"Sum on list [1,2,3,4,5,6,7,8,9] using custom reduce function:\"   + str(myreduce(sum, [1,2,3,4,5,6,7,8,9])) )"
   ]
  },
  {
   "cell_type": "code",
   "execution_count": 2,
   "metadata": {},
   "outputs": [
    {
     "name": "stdout",
     "output_type": "stream",
     "text": [
      "Output of myfilter is :[1, 3, 4, 5, 7]\n"
     ]
    }
   ],
   "source": [
    "# 1.2 - Write a Python program to implement your own myfilter() function which works exactly like\n",
    "# Python's built-in function filter()\n",
    "def myfilter(anyfunc, sequence):\n",
    "    result = []  \n",
    "\n",
    "    for item in sequence:  \n",
    "        \n",
    "        if anyfunc(item):            \n",
    "            result.append(item)\n",
    "            \n",
    "    return result\n",
    "\n",
    "def ispositive(x):    \n",
    "    if (x <= 0):        \n",
    "        return False \n",
    "    else: \n",
    "        return True\n",
    "\n",
    "print(\"Output of myfilter is :\"+str(myfilter(ispositive, [0,1,-2,3,4,5,-6,7])))"
   ]
  },
  {
   "cell_type": "code",
   "execution_count": 3,
   "metadata": {},
   "outputs": [
    {
     "name": "stdout",
     "output_type": "stream",
     "text": [
      "Enter the word :  acadgild\n",
      "['A', 'C', 'A', 'D', 'G', 'I', 'L', 'D']\n"
     ]
    }
   ],
   "source": [
    "#2 - Implement List comprehensions to produce the following lists.\n",
    "#Write List comprehensions to produce the following Lists\n",
    "\n",
    "#['A', 'C', 'A', 'D', 'G', 'I', ’L’, ‘ D’]\n",
    "#['x', 'xx', 'xxx', 'xxxx', 'y', 'yy', 'yyy', 'yyyy', 'z', 'zz', 'zzz', 'zzzz']\n",
    "#['x', 'y', 'z', 'xx', 'yy', 'zz', 'xx', 'yy', 'zz', 'xxxx', 'yyyy', 'zzzz']\n",
    "#[[2], [3], [4], [3], [4], [5], [4], [5], [6]]\n",
    "#[[2, 3, 4, 5], [3, 4, 5, 6], [4, 5, 6, 7], [5, 6, 7, 8]]\n",
    "#[(1, 1), (2, 1), (3, 1), (1, 2), (2, 2), (3, 2), (1, 3), (2, 3), (3, 3)]\n",
    "\n",
    "\n",
    "#['A', 'C', 'A', 'D', 'G', 'I', ’L’, ‘ D’]\n",
    "word=input(\"Enter the word :  \")\n",
    "word\n",
    "print(list([row[0].upper() for row in word]))"
   ]
  },
  {
   "cell_type": "code",
   "execution_count": 4,
   "metadata": {},
   "outputs": [
    {
     "name": "stdout",
     "output_type": "stream",
     "text": [
      "Enter the list seperated by comma :  x,y,z\n",
      "Enter the range to be printed : 4\n",
      "['x', 'xx', 'xxx', 'xxxx', 'y', 'yy', 'yyy', 'yyyy', 'z', 'zz', 'zzz', 'zzzz']\n"
     ]
    }
   ],
   "source": [
    "#['x', 'xx', 'xxx', 'xxxx', 'y', 'yy', 'yyy', 'yyyy', 'z', 'zz', 'zzz', 'zzzz']\n",
    "\n",
    "pattern=input(\"Enter the list seperated by comma :  \")\n",
    "range_value=input(\"Enter the range to be printed : \")\n",
    "\n",
    "pattern=pattern.split(\",\")\n",
    "\n",
    "\n",
    "print(list([str(row[0])*j  for row in pattern for j in range(1,int(range_value)+1)]))"
   ]
  },
  {
   "cell_type": "code",
   "execution_count": 5,
   "metadata": {},
   "outputs": [
    {
     "name": "stdout",
     "output_type": "stream",
     "text": [
      "Enter the list seperated by comma :  x,y,z\n",
      "Enter the range to be printed : 4\n",
      "['x', 'y', 'z']\n",
      "['x', 'y', 'z', 'xx', 'yy', 'zz', 'xxx', 'yyy', 'zzz', 'xxxx', 'yyyy', 'zzzz']\n"
     ]
    }
   ],
   "source": [
    "#['x', 'y', 'z', 'xx', 'yy', 'zz', 'xxx', 'yyy', 'zzz', 'xxxx', 'yyyy', 'zzzz']\n",
    "\n",
    "pattern=input(\"Enter the list seperated by comma :  \")\n",
    "range_value=input(\"Enter the range to be printed : \")\n",
    "pattern=pattern.split(\",\")\n",
    "       \n",
    "print(pattern)\n",
    "\n",
    "print(list([str(row[0])*j  for j in range(1,int(range_value)+1) for row in pattern]))"
   ]
  },
  {
   "cell_type": "code",
   "execution_count": 6,
   "metadata": {},
   "outputs": [
    {
     "name": "stdout",
     "output_type": "stream",
     "text": [
      "Enter the list seperated by comma :  2,3,4\n",
      "Enter no of times to be printed : 2\n"
     ]
    },
    {
     "data": {
      "text/plain": [
       "[[2], [3], [4], [3], [4], [5], [4], [5], [6]]"
      ]
     },
     "execution_count": 6,
     "metadata": {},
     "output_type": "execute_result"
    }
   ],
   "source": [
    "#[[2], [3], [4], [3], [4], [5], [4], [5], [6]]\n",
    "\n",
    "pattern=input(\"Enter the list seperated by comma :  \")\n",
    "range_value=input(\"Enter no of times to be printed : \")\n",
    "pattern=pattern.split(\",\")\n",
    "         \n",
    "x=[]\n",
    "y=[]\n",
    "str1=\"\"\n",
    "\n",
    "x=(list([int(row[0])+j]  for j in range(0,int(range_value)+1) for row in pattern))\n",
    "x"
   ]
  },
  {
   "cell_type": "code",
   "execution_count": 7,
   "metadata": {},
   "outputs": [
    {
     "name": "stdout",
     "output_type": "stream",
     "text": [
      "Enter the list seperated by comma :  1,2,3,4\n",
      "Enter no of times to be printed : 4\n"
     ]
    },
    {
     "data": {
      "text/plain": [
       "[[2, 3, 4, 5], [3, 4, 5, 6], [4, 5, 6, 7], [5, 6, 7, 8]]"
      ]
     },
     "execution_count": 7,
     "metadata": {},
     "output_type": "execute_result"
    }
   ],
   "source": [
    "#[[2, 3, 4, 5], [3, 4, 5, 6], [4, 5, 6, 7], [5, 6, 7, 8]]\n",
    "\n",
    "number=input(\"Enter the list seperated by comma :  \")\n",
    "range_value=input(\"Enter no of times to be printed : \")\n",
    "number=number.split(\",\")\n",
    "         \n",
    "x=[]\n",
    "y=[]\n",
    "\n",
    "x=(list([int(row[0])+j  for row in number] for j in range(1,int(range_value)+1)))\n",
    "x"
   ]
  },
  {
   "cell_type": "code",
   "execution_count": 8,
   "metadata": {},
   "outputs": [
    {
     "name": "stdout",
     "output_type": "stream",
     "text": [
      "Enter the list seperated by comma :  1,2,3\n",
      "['1', '2', '3']\n",
      "[(1,1),(2,1),(3,1),(1,2),(2,2),(3,2),(1,3),(2,3),(3,3)]\n"
     ]
    }
   ],
   "source": [
    "#[(1, 1), (2, 1), (3, 1), (1, 2), (2, 2), (3, 2), (1, 3), (2, 3), (3, 3)]\n",
    "lstin=input(\"Enter the list seperated by comma :  \")\n",
    "lstout=[]\n",
    "\n",
    "lstin=lstin.split(\",\")\n",
    "\n",
    "print(lstin)\n",
    "\n",
    "tpl=(list(str(\"(\"+str(lstin[j])+str(\",\")+str(lstin[i])+\")\")  for i in range(0,int(len(lstin))) for j in range(0,int(len(lstin)))))\n",
    "\n",
    "print(\"[%s]\"%(','.join(tpl)))"
   ]
  },
  {
   "cell_type": "code",
   "execution_count": 9,
   "metadata": {},
   "outputs": [
    {
     "name": "stdout",
     "output_type": "stream",
     "text": [
      "Enter the list of words seperated by comma :  Chennai,Bangalore,Mumbai,Kolkata\n",
      "Word number 1 : Chennai\n",
      "Word number 2 : Bangalore\n",
      "Word number 3 : Mumbai\n",
      "Word number 4 : Kolkata\n",
      "Longest word in the given list is 'Bangalore' and its length is '9'\n"
     ]
    }
   ],
   "source": [
    "#3 - Implement a function longestWord() that takes a list of words and returns the longest one.\n",
    "\n",
    "def longestWord(lstin):\n",
    "    lststart=lstin[0]\n",
    "    print(\"Word number 1 : \"+str(lstin[0]))\n",
    "    for i in range(1,len(lstin)):\n",
    "        print(\"Word number \"+str(i+1)+\" : \"+str(lstin[i]))\n",
    "        if int(len(lststart)) < int(len(lstin[i])):\n",
    "            lststart=lstin[i]\n",
    "    return(str(lststart),str(len(lststart)))\n",
    "\n",
    "              \n",
    "\n",
    "lstwords=input(\"Enter the list of words seperated by comma :  \")\n",
    "lstwords=lstwords.split(\",\")\n",
    "lw,lwlen=longestWord(lstwords)\n",
    "print(\"Longest word in the given list is '\"+str(lw)+ \"' and its length is '\"+str(lwlen)+str(\"'\"))"
   ]
  },
  {
   "cell_type": "code",
   "execution_count": 10,
   "metadata": {},
   "outputs": [
    {
     "name": "stdout",
     "output_type": "stream",
     "text": [
      "\n",
      "Inside Parent Class\n",
      "\n",
      "Enter First Side of the Triangle : 89\n",
      "\n",
      "Enter Second Side of the Triangle : 85\n",
      "\n",
      "Enter Third Side of the Triangle : 25\n",
      "\n",
      "Values Entered are : 89 85 25\n",
      "\n",
      "Inside Child Class\n",
      "\n",
      "Area of Triangle = 1062.3517249480042\n"
     ]
    }
   ],
   "source": [
    "#Task 2\n",
    "# 1.1 - Write a Python Program(with class concepts) to find the area of the triangle using the below formula.\n",
    "# area = (s*(s-a)*(s-b)*(s-c)) ** 0.5\n",
    "# Function to take the length of the sides of triangle from user should be defined in the parent\n",
    "# class and function to calculate the area should be defined in subclass.\n",
    "\n",
    "\n",
    "class Triangle:\n",
    "    def __init__(self,side1,side2,side3):\n",
    "        self.side1=side1\n",
    "        self.side2=side2\n",
    "        self.side3=side3\n",
    "    print(\"\\nInside Parent Class\\n\")\n",
    "\n",
    "class Triangle_area(Triangle):\n",
    "    \n",
    "     def __init__(self,side1,side2,side3):\n",
    "        print(\"\\nInside Child Class\")\n",
    "        super(Triangle_area,self).__init__(side1,side2,side3)\n",
    "   \n",
    "     def calculate_area(self):\n",
    "         \n",
    "        s=(self.side1 + self.side2 + self.side3)/2\n",
    "        \n",
    "        return (s*(s-self.side1)*(s-self.side2)*(s-self.side3))** 0.5\n",
    "         \n",
    " \n",
    "\n",
    "s1=input(\"Enter First Side of the Triangle : \")\n",
    "s2=input(\"\\nEnter Second Side of the Triangle : \")\n",
    "s3=input(\"\\nEnter Third Side of the Triangle : \")\n",
    "print(\"\\nValues Entered are : \" + str(s1),str(s2),str(s3))\n",
    " \n",
    "tri=Triangle_area(int(s1),int(s2),int(s3))\n",
    "print(\"\\nArea of Triangle = \"+ str(tri.calculate_area()))"
   ]
  },
  {
   "cell_type": "code",
   "execution_count": 11,
   "metadata": {},
   "outputs": [
    {
     "name": "stdout",
     "output_type": "stream",
     "text": [
      "Enter the list of words seperated by comma :  Chennai,Bangalore,Mumbai,Kolkata\n",
      "\n",
      "Enter the length of words to filter :  6\n",
      "\n",
      "Inside filter_long_words function\n",
      "\n",
      "Words that are greater than 6 are :\n"
     ]
    },
    {
     "data": {
      "text/plain": [
       "['Chennai', 'Bangalore', 'Kolkata']"
      ]
     },
     "execution_count": 11,
     "metadata": {},
     "output_type": "execute_result"
    }
   ],
   "source": [
    "# 1.2 - Write a function filter_long_words() that takes a list of words and an integer n and returns the list\n",
    "#of words that are longer than n.\n",
    "\n",
    "def filter_long_words(lstwords,lstlen):\n",
    "    print(\"\\nInside filter_long_words function\")\n",
    "    return list(filter(lambda x: len(x)>lstlen,lstwords))\n",
    "\n",
    "\n",
    "lstwords=input(\"Enter the list of words seperated by comma :  \")\n",
    "lstwords=lstwords.split(\",\")\n",
    "lstlen=int(input(\"\\nEnter the length of words to filter :  \"))\n",
    "lstfilter=filter_long_words(lstwords,lstlen)\n",
    "print(\"\\nWords that are greater than \"+str(lstlen)+\" are :\")\n",
    "lstfilter"
   ]
  },
  {
   "cell_type": "code",
   "execution_count": 12,
   "metadata": {},
   "outputs": [
    {
     "name": "stdout",
     "output_type": "stream",
     "text": [
      "Enter the list of words seperated by comma :  Chennai,Bangalore,Mumbai,Kolkata\n",
      "\n",
      "Inside words_length function\n",
      "\n",
      "Length of Words are :[7, 9, 6, 7]\n"
     ]
    }
   ],
   "source": [
    "# 2.1 - Write a Python program using function concept that maps list of words into a list of integers\n",
    "# representing the lengths of the corresponding words .\n",
    "# Hint: If a list [ ab,cde,erty] is passed on to the python function output should come as [2,3,4]\n",
    "# Here 2,3 and 4 are the lengths of the words in the list.\n",
    "\n",
    "def words_length(lstwords):\n",
    "    print(\"\\nInside words_length function\")\n",
    "    return list(map(lambda x: len(x),lstwords))\n",
    "\n",
    "\n",
    "lstwords=input(\"Enter the list of words seperated by comma :  \")\n",
    "lstwords=lstwords.split(\",\")\n",
    "\n",
    "lstfilter=words_length(lstwords)\n",
    "print(\"\\nLength of Words are :\"+str(lstfilter))"
   ]
  },
  {
   "cell_type": "code",
   "execution_count": 13,
   "metadata": {},
   "outputs": [
    {
     "name": "stdout",
     "output_type": "stream",
     "text": [
      "Enter the character: a\n",
      "a is a vowel.\n"
     ]
    }
   ],
   "source": [
    "# 2.2 - #Write a Python function which takes a character (i.e. a string of length 1) and returns True if it is\n",
    "#a vowel, False otherwise.\n",
    "\n",
    "def vowel_check(char):\n",
    " if(char == 'a' or char == 'e' or char == 'i' or char == 'o' or char == 'u'):\n",
    "  return True\n",
    " elif (char == 'A' or char == 'E' or char == 'I' or char == 'O' or char == 'U'):\n",
    "  return True\n",
    " else:\n",
    "  return False\n",
    "\n",
    "# Take user input\n",
    "lstcharacter = input(\"Enter the character: \");\n",
    "vowel_check(lstcharacter)\n",
    "if len(lstcharacter)>1:\n",
    "    print(\"Character length cannot be more than 1\")\n",
    "elif (vowel_check(lstcharacter)):\n",
    " print(lstcharacter, \"is a vowel.\");\n",
    "else:\n",
    " print(lstcharacter, \"is not a vowel.\"); "
   ]
  },
  {
   "cell_type": "code",
   "execution_count": null,
   "metadata": {},
   "outputs": [],
   "source": []
  }
 ],
 "metadata": {
  "kernelspec": {
   "display_name": "Python 3",
   "language": "python",
   "name": "python3"
  },
  "language_info": {
   "codemirror_mode": {
    "name": "ipython",
    "version": 3
   },
   "file_extension": ".py",
   "mimetype": "text/x-python",
   "name": "python",
   "nbconvert_exporter": "python",
   "pygments_lexer": "ipython3",
   "version": "3.7.0"
  }
 },
 "nbformat": 4,
 "nbformat_minor": 2
}
